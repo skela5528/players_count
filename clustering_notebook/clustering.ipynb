{
 "cells": [
  {
   "cell_type": "markdown",
   "metadata": {
    "toc": true
   },
   "source": [
    "<h1>Table of Contents<span class=\"tocSkip\"></span></h1>\n",
    "<div class=\"toc\"><ul class=\"toc-item\"><li><span><a href=\"#Data-Load-and-Exploration\" data-toc-modified-id=\"Data-Load-and-Exploration-1\"><span class=\"toc-item-num\">1&nbsp;&nbsp;</span>Data Load and Exploration</a></span></li><li><span><a href=\"#Visualiazation\" data-toc-modified-id=\"Visualiazation-2\"><span class=\"toc-item-num\">2&nbsp;&nbsp;</span>Visualiazation</a></span><ul class=\"toc-item\"><li><span><a href=\"#TSNE\" data-toc-modified-id=\"TSNE-2.1\"><span class=\"toc-item-num\">2.1&nbsp;&nbsp;</span>TSNE</a></span></li><li><span><a href=\"#PCA\" data-toc-modified-id=\"PCA-2.2\"><span class=\"toc-item-num\">2.2&nbsp;&nbsp;</span>PCA</a></span></li></ul></li></ul></div>"
   ]
  },
  {
   "cell_type": "markdown",
   "metadata": {},
   "source": [
    "## Data Load and Exploration"
   ]
  },
  {
   "cell_type": "code",
   "execution_count": 1,
   "metadata": {},
   "outputs": [],
   "source": [
    "data_path = 'data_sensors.csv'\n",
    "df = pd.read_csv(data_path)"
   ]
  },
  {
   "cell_type": "code",
   "execution_count": 2,
   "metadata": {
    "scrolled": true
   },
   "outputs": [
    {
     "data": {
      "text/plain": [
       "3.0    20\n",
       "1.0    10\n",
       "2.0    10\n",
       "Name: Label, dtype: int64"
      ]
     },
     "execution_count": 2,
     "metadata": {},
     "output_type": "execute_result"
    }
   ],
   "source": [
    "df.Label.value_counts()"
   ]
  },
  {
   "cell_type": "code",
   "execution_count": 3,
   "metadata": {},
   "outputs": [],
   "source": [
    "labels = df.Label.values\n",
    "df = df.drop('Label', axis=1)"
   ]
  },
  {
   "cell_type": "code",
   "execution_count": 4,
   "metadata": {},
   "outputs": [
    {
     "data": {
      "text/html": [
       "<div>\n",
       "<style scoped>\n",
       "    .dataframe tbody tr th:only-of-type {\n",
       "        vertical-align: middle;\n",
       "    }\n",
       "\n",
       "    .dataframe tbody tr th {\n",
       "        vertical-align: top;\n",
       "    }\n",
       "\n",
       "    .dataframe thead th {\n",
       "        text-align: right;\n",
       "    }\n",
       "</style>\n",
       "<table border=\"1\" class=\"dataframe\">\n",
       "  <thead>\n",
       "    <tr style=\"text-align: right;\">\n",
       "      <th></th>\n",
       "      <th>Sensor 0</th>\n",
       "      <th>Sensor 1</th>\n",
       "      <th>Sensor 2</th>\n",
       "      <th>Sensor 3</th>\n",
       "      <th>Sensor 4</th>\n",
       "      <th>Sensor 5</th>\n",
       "      <th>Sensor 6</th>\n",
       "      <th>Sensor 7</th>\n",
       "      <th>Sensor 8</th>\n",
       "      <th>Sensor 9</th>\n",
       "      <th>Sensor 10</th>\n",
       "      <th>Sensor 11</th>\n",
       "      <th>Sensor 12</th>\n",
       "      <th>Sensor 13</th>\n",
       "      <th>Sensor 14</th>\n",
       "      <th>Sensor 15</th>\n",
       "      <th>Sensor 16</th>\n",
       "      <th>Sensor 17</th>\n",
       "      <th>Sensor 18</th>\n",
       "      <th>Sensor 19</th>\n",
       "    </tr>\n",
       "  </thead>\n",
       "  <tbody>\n",
       "    <tr>\n",
       "      <th>count</th>\n",
       "      <td>1600.000000</td>\n",
       "      <td>1600.000000</td>\n",
       "      <td>1600.000000</td>\n",
       "      <td>1600.000000</td>\n",
       "      <td>1600.000000</td>\n",
       "      <td>1600.000000</td>\n",
       "      <td>1600.000000</td>\n",
       "      <td>1600.000000</td>\n",
       "      <td>1600.000000</td>\n",
       "      <td>1600.000000</td>\n",
       "      <td>1600.000000</td>\n",
       "      <td>1600.000000</td>\n",
       "      <td>1600.000000</td>\n",
       "      <td>1600.000000</td>\n",
       "      <td>1600.000000</td>\n",
       "      <td>1600.000000</td>\n",
       "      <td>1600.000000</td>\n",
       "      <td>1600.000000</td>\n",
       "      <td>1600.000000</td>\n",
       "      <td>1600.000000</td>\n",
       "    </tr>\n",
       "    <tr>\n",
       "      <th>mean</th>\n",
       "      <td>-0.003901</td>\n",
       "      <td>0.010692</td>\n",
       "      <td>0.003611</td>\n",
       "      <td>0.016913</td>\n",
       "      <td>0.006504</td>\n",
       "      <td>-0.035332</td>\n",
       "      <td>0.002607</td>\n",
       "      <td>-0.023096</td>\n",
       "      <td>0.014207</td>\n",
       "      <td>0.001201</td>\n",
       "      <td>-0.008101</td>\n",
       "      <td>-0.000107</td>\n",
       "      <td>0.006054</td>\n",
       "      <td>-0.003777</td>\n",
       "      <td>0.003583</td>\n",
       "      <td>0.009220</td>\n",
       "      <td>0.026797</td>\n",
       "      <td>0.018740</td>\n",
       "      <td>0.018144</td>\n",
       "      <td>0.010668</td>\n",
       "    </tr>\n",
       "    <tr>\n",
       "      <th>std</th>\n",
       "      <td>0.578326</td>\n",
       "      <td>0.580784</td>\n",
       "      <td>0.359632</td>\n",
       "      <td>0.583571</td>\n",
       "      <td>0.570841</td>\n",
       "      <td>0.593607</td>\n",
       "      <td>0.572523</td>\n",
       "      <td>0.588614</td>\n",
       "      <td>0.579928</td>\n",
       "      <td>0.602691</td>\n",
       "      <td>0.577587</td>\n",
       "      <td>0.584802</td>\n",
       "      <td>0.577892</td>\n",
       "      <td>0.359788</td>\n",
       "      <td>0.584293</td>\n",
       "      <td>0.582116</td>\n",
       "      <td>0.569598</td>\n",
       "      <td>0.578555</td>\n",
       "      <td>0.583309</td>\n",
       "      <td>0.576219</td>\n",
       "    </tr>\n",
       "    <tr>\n",
       "      <th>min</th>\n",
       "      <td>-0.998098</td>\n",
       "      <td>-0.992518</td>\n",
       "      <td>-0.800000</td>\n",
       "      <td>-0.999775</td>\n",
       "      <td>-0.999870</td>\n",
       "      <td>-0.999669</td>\n",
       "      <td>-0.996949</td>\n",
       "      <td>-0.998761</td>\n",
       "      <td>-0.998044</td>\n",
       "      <td>-0.999523</td>\n",
       "      <td>-0.998975</td>\n",
       "      <td>-0.999330</td>\n",
       "      <td>-0.996221</td>\n",
       "      <td>-0.800000</td>\n",
       "      <td>-0.998908</td>\n",
       "      <td>-0.998526</td>\n",
       "      <td>-0.999408</td>\n",
       "      <td>-0.998213</td>\n",
       "      <td>-0.999880</td>\n",
       "      <td>-0.998559</td>\n",
       "    </tr>\n",
       "    <tr>\n",
       "      <th>25%</th>\n",
       "      <td>-0.507756</td>\n",
       "      <td>-0.488596</td>\n",
       "      <td>-0.259969</td>\n",
       "      <td>-0.504151</td>\n",
       "      <td>-0.485490</td>\n",
       "      <td>-0.576116</td>\n",
       "      <td>-0.493367</td>\n",
       "      <td>-0.531029</td>\n",
       "      <td>-0.473253</td>\n",
       "      <td>-0.559439</td>\n",
       "      <td>-0.504933</td>\n",
       "      <td>-0.514553</td>\n",
       "      <td>-0.524190</td>\n",
       "      <td>-0.265276</td>\n",
       "      <td>-0.510638</td>\n",
       "      <td>-0.488482</td>\n",
       "      <td>-0.457106</td>\n",
       "      <td>-0.505591</td>\n",
       "      <td>-0.478406</td>\n",
       "      <td>-0.470953</td>\n",
       "    </tr>\n",
       "    <tr>\n",
       "      <th>50%</th>\n",
       "      <td>0.004809</td>\n",
       "      <td>0.017735</td>\n",
       "      <td>0.000516</td>\n",
       "      <td>0.051528</td>\n",
       "      <td>0.000811</td>\n",
       "      <td>-0.051875</td>\n",
       "      <td>0.015700</td>\n",
       "      <td>-0.043717</td>\n",
       "      <td>0.004869</td>\n",
       "      <td>0.034202</td>\n",
       "      <td>-0.024177</td>\n",
       "      <td>0.009776</td>\n",
       "      <td>0.024858</td>\n",
       "      <td>-0.005893</td>\n",
       "      <td>0.031814</td>\n",
       "      <td>0.006501</td>\n",
       "      <td>0.038331</td>\n",
       "      <td>0.009060</td>\n",
       "      <td>0.032383</td>\n",
       "      <td>0.020862</td>\n",
       "    </tr>\n",
       "    <tr>\n",
       "      <th>75%</th>\n",
       "      <td>0.476584</td>\n",
       "      <td>0.513715</td>\n",
       "      <td>0.270990</td>\n",
       "      <td>0.512762</td>\n",
       "      <td>0.495880</td>\n",
       "      <td>0.481036</td>\n",
       "      <td>0.484419</td>\n",
       "      <td>0.490271</td>\n",
       "      <td>0.503751</td>\n",
       "      <td>0.547635</td>\n",
       "      <td>0.501495</td>\n",
       "      <td>0.516638</td>\n",
       "      <td>0.503594</td>\n",
       "      <td>0.259134</td>\n",
       "      <td>0.522166</td>\n",
       "      <td>0.530700</td>\n",
       "      <td>0.513615</td>\n",
       "      <td>0.537619</td>\n",
       "      <td>0.543224</td>\n",
       "      <td>0.510085</td>\n",
       "    </tr>\n",
       "    <tr>\n",
       "      <th>max</th>\n",
       "      <td>0.999610</td>\n",
       "      <td>0.999463</td>\n",
       "      <td>0.800000</td>\n",
       "      <td>0.999733</td>\n",
       "      <td>0.992920</td>\n",
       "      <td>0.996972</td>\n",
       "      <td>0.999369</td>\n",
       "      <td>0.999376</td>\n",
       "      <td>0.999143</td>\n",
       "      <td>0.999618</td>\n",
       "      <td>0.999918</td>\n",
       "      <td>0.995784</td>\n",
       "      <td>0.998642</td>\n",
       "      <td>0.800000</td>\n",
       "      <td>0.998700</td>\n",
       "      <td>0.997060</td>\n",
       "      <td>0.995780</td>\n",
       "      <td>0.999772</td>\n",
       "      <td>0.999192</td>\n",
       "      <td>0.999967</td>\n",
       "    </tr>\n",
       "  </tbody>\n",
       "</table>\n",
       "</div>"
      ],
      "text/plain": [
       "          Sensor 0     Sensor 1     Sensor 2     Sensor 3     Sensor 4  \\\n",
       "count  1600.000000  1600.000000  1600.000000  1600.000000  1600.000000   \n",
       "mean     -0.003901     0.010692     0.003611     0.016913     0.006504   \n",
       "std       0.578326     0.580784     0.359632     0.583571     0.570841   \n",
       "min      -0.998098    -0.992518    -0.800000    -0.999775    -0.999870   \n",
       "25%      -0.507756    -0.488596    -0.259969    -0.504151    -0.485490   \n",
       "50%       0.004809     0.017735     0.000516     0.051528     0.000811   \n",
       "75%       0.476584     0.513715     0.270990     0.512762     0.495880   \n",
       "max       0.999610     0.999463     0.800000     0.999733     0.992920   \n",
       "\n",
       "          Sensor 5     Sensor 6     Sensor 7     Sensor 8     Sensor 9  \\\n",
       "count  1600.000000  1600.000000  1600.000000  1600.000000  1600.000000   \n",
       "mean     -0.035332     0.002607    -0.023096     0.014207     0.001201   \n",
       "std       0.593607     0.572523     0.588614     0.579928     0.602691   \n",
       "min      -0.999669    -0.996949    -0.998761    -0.998044    -0.999523   \n",
       "25%      -0.576116    -0.493367    -0.531029    -0.473253    -0.559439   \n",
       "50%      -0.051875     0.015700    -0.043717     0.004869     0.034202   \n",
       "75%       0.481036     0.484419     0.490271     0.503751     0.547635   \n",
       "max       0.996972     0.999369     0.999376     0.999143     0.999618   \n",
       "\n",
       "         Sensor 10    Sensor 11    Sensor 12    Sensor 13    Sensor 14  \\\n",
       "count  1600.000000  1600.000000  1600.000000  1600.000000  1600.000000   \n",
       "mean     -0.008101    -0.000107     0.006054    -0.003777     0.003583   \n",
       "std       0.577587     0.584802     0.577892     0.359788     0.584293   \n",
       "min      -0.998975    -0.999330    -0.996221    -0.800000    -0.998908   \n",
       "25%      -0.504933    -0.514553    -0.524190    -0.265276    -0.510638   \n",
       "50%      -0.024177     0.009776     0.024858    -0.005893     0.031814   \n",
       "75%       0.501495     0.516638     0.503594     0.259134     0.522166   \n",
       "max       0.999918     0.995784     0.998642     0.800000     0.998700   \n",
       "\n",
       "         Sensor 15    Sensor 16    Sensor 17    Sensor 18    Sensor 19  \n",
       "count  1600.000000  1600.000000  1600.000000  1600.000000  1600.000000  \n",
       "mean      0.009220     0.026797     0.018740     0.018144     0.010668  \n",
       "std       0.582116     0.569598     0.578555     0.583309     0.576219  \n",
       "min      -0.998526    -0.999408    -0.998213    -0.999880    -0.998559  \n",
       "25%      -0.488482    -0.457106    -0.505591    -0.478406    -0.470953  \n",
       "50%       0.006501     0.038331     0.009060     0.032383     0.020862  \n",
       "75%       0.530700     0.513615     0.537619     0.543224     0.510085  \n",
       "max       0.997060     0.995780     0.999772     0.999192     0.999967  "
      ]
     },
     "execution_count": 4,
     "metadata": {},
     "output_type": "execute_result"
    }
   ],
   "source": [
    "df.describe()"
   ]
  },
  {
   "cell_type": "markdown",
   "metadata": {},
   "source": [
    "__Data looks normilized around 0, in range [-1 +1]  with similar std__."
   ]
  },
  {
   "cell_type": "markdown",
   "metadata": {},
   "source": [
    "## Visualiazation"
   ]
  },
  {
   "cell_type": "markdown",
   "metadata": {},
   "source": [
    "### TSNE"
   ]
  },
  {
   "cell_type": "code",
   "execution_count": null,
   "metadata": {},
   "outputs": [
    {
     "name": "stdout",
     "output_type": "stream",
     "text": [
      "[t-SNE] Computing 31 nearest neighbors...\n",
      "[t-SNE] Indexed 1600 samples in 0.013s...\n",
      "[t-SNE] Computed neighbors for 1600 samples in 0.406s...\n",
      "[t-SNE] Computed conditional probabilities for sample 1000 / 1600\n",
      "[t-SNE] Computed conditional probabilities for sample 1600 / 1600\n",
      "[t-SNE] Mean sigma: 0.721952\n",
      "[t-SNE] KL divergence after 250 iterations with early exaggeration: 88.542442\n"
     ]
    }
   ],
   "source": [
    "from sklearn.manifold import TSNE\n",
    "# x = np.array(df)\n",
    "tsne = TSNE(n_components=2, verbose=1, perplexity=10, n_iter=1000, learning_rate=100, init='pca')\n",
    "results = tsne.fit_transform(df)\n",
    "results.shape"
   ]
  },
  {
   "cell_type": "code",
   "execution_count": null,
   "metadata": {},
   "outputs": [],
   "source": [
    "plt.plot(results[:, 0], results[:, 1], ls='', marker=\".\", color='gray')\n",
    "plt.plot(results[labels==1.0, 0], results[labels==1.0, 1], ls='', marker=\"X\", color='red', ms=10)\n",
    "plt.plot(results[labels==2.0, 0], results[labels==2.0, 1], ls='', marker=\"s\", color='blue', ms=10)\n",
    "plt.plot(results[labels==3.0, 0], results[labels==3.0, 1], ls='', marker=\"o\", color='green', ms=10)\n",
    "\n",
    "plt.gcf().set_size_inches(10, 10)"
   ]
  },
  {
   "cell_type": "markdown",
   "metadata": {},
   "source": [
    "### PCA"
   ]
  },
  {
   "cell_type": "code",
   "execution_count": null,
   "metadata": {},
   "outputs": [],
   "source": [
    "from sklearn.decomposition import PCA\n",
    "pca = PCA(n_components=2)\n",
    "pca_result = pca.fit_transform(df)"
   ]
  },
  {
   "cell_type": "code",
   "execution_count": null,
   "metadata": {},
   "outputs": [],
   "source": [
    "plt.plot(pca_result[:, 0], pca_result[:, 1], ls='', marker=\".\", color='gray')\n",
    "plt.plot(pca_result[labels==1.0, 0], pca_result[labels==1.0, 1], ls='', marker=\"X\", color='red', ms=10)\n",
    "plt.plot(pca_result[labels==2.0, 0], pca_result[labels==2.0, 1], ls='', marker=\"s\", color='blue', ms=10)\n",
    "plt.plot(pca_result[labels==3.0, 0], pca_result[labels==3.0, 1], ls='', marker=\"o\", color='green', ms=10)\n",
    "\n",
    "plt.gcf().set_size_inches(10, 10)"
   ]
  }
 ],
 "metadata": {
  "kernelspec": {
   "display_name": "Python 3",
   "language": "python",
   "name": "python3"
  },
  "language_info": {
   "codemirror_mode": {
    "name": "ipython",
    "version": 3
   },
   "file_extension": ".py",
   "mimetype": "text/x-python",
   "name": "python",
   "nbconvert_exporter": "python",
   "pygments_lexer": "ipython3",
   "version": "3.6.10"
  },
  "toc": {
   "base_numbering": 1,
   "nav_menu": {},
   "number_sections": true,
   "sideBar": true,
   "skip_h1_title": false,
   "title_cell": "Table of Contents",
   "title_sidebar": "Contents",
   "toc_cell": true,
   "toc_position": {},
   "toc_section_display": true,
   "toc_window_display": true
  }
 },
 "nbformat": 4,
 "nbformat_minor": 4
}
